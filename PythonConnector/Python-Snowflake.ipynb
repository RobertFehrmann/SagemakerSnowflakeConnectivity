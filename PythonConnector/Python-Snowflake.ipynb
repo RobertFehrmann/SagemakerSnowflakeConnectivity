{
 "cells": [
  {
   "cell_type": "markdown",
   "metadata": {},
   "source": [
    "# Sagemaker Jupyter Notebook Integration with Snowflake via Python\n",
    "\n",
    "---\n",
    "\n",
    "This Notebook shows how to integrate Sagemaker and Snowflake via the Python connector. \n",
    "\n",
    "\n",
    "## Contents\n",
    "\n",
    "1. [Credentials](#Credentials)\n",
    "1. [Database Connectivity](#Database-Connectivity)\n",
    "1. [Data Import](#DataImport)\n"
   ]
  },
  {
   "cell_type": "markdown",
   "metadata": {},
   "source": [
    "## Credentials\n",
    "Credentials can be hard coded but a much more secure way is to stored them in the [Systems Manager Parameter Store](https://docs.aws.amazon.com/systems-manager/latest/userguide/systems-manager-paramstore.html). The following step reads the values for the provided keys from the parameter store. These Keys are just an example. You can use the same Keys but you have to create the Key/Value pairs in the parameter store before you can use them here. "
   ]
  },
  {
   "cell_type": "code",
   "execution_count": 3,
   "metadata": {
    "collapsed": true
   },
   "outputs": [],
   "source": [
    "import boto3\n",
    "\n",
    "params=['/SNOWFLAKE/URL','/SNOWFLAKE/ACCOUNT_ID'\n",
    "        ,'/SNOWFLAKE/USER_ID','/SNOWFLAKE/PASSWORD'\n",
    "        ,'/SNOWFLAKE/DATABASE','/SNOWFLAKE/SCHEMA'\n",
    "        ,'/SNOWFLAKE/WAREHOUSE','/SNOWFLAKE/BUCKET'\n",
    "        ,'/SNOWFLAKE/PREFIX']\n",
    "region='us-east-1'\n",
    "\n",
    "def get_credentials(params):\n",
    "   ssm = boto3.client('ssm',region)\n",
    "   response = ssm.get_parameters(\n",
    "      Names=params,\n",
    "      WithDecryption=True\n",
    "   )\n",
    "   #Build dict of credentials\n",
    "   param_values={k['Name']:k['Value'] for k in  response['Parameters']}\n",
    "   return param_values\n",
    "\n",
    "param_values=get_credentials(params)"
   ]
  },
  {
   "cell_type": "markdown",
   "metadata": {},
   "source": [
    "## Database Connectivity\n",
    "The following step establishes a connection to the Snowflake database. It uses the credentials read by the previous step from the Systems Manager parameter store."
   ]
  },
  {
   "cell_type": "code",
   "execution_count": 4,
   "metadata": {
    "collapsed": true
   },
   "outputs": [],
   "source": [
    "import snowflake.connector\n",
    "# Connecting to Snowflake using the default authenticator\n",
    "ctx = snowflake.connector.connect(\n",
    "  user=param_values['/SNOWFLAKE/USER_ID'],\n",
    "  password=param_values['/SNOWFLAKE/PASSWORD'],\n",
    "  account=param_values['/SNOWFLAKE/ACCOUNT_ID'],\n",
    "  warehouse=param_values['/SNOWFLAKE/WAREHOUSE'],\n",
    "  database=param_values['/SNOWFLAKE/DATABASE'],\n",
    "  schema=param_values['/SNOWFLAKE/SCHEMA']\n",
    ")"
   ]
  },
  {
   "cell_type": "markdown",
   "metadata": {},
   "source": [
    "## Data Import\n",
    "The following step reads weather from the [Snowflake Sample Weather Data](https://docs.snowflake.net/manuals/user-guide/sample-data-openweathermap.html) database. Notice, how easy it is to read and transform JSON data. The result set can directly be used to create a pandas data frame. Check out this [JSON tutorial](https://docs.snowflake.net/manuals/user-guide/json-basics-tutorial.html) on the Snowflake documentation site.\n",
    "Since we are using the Python connector and all data for the whole dataset will be read into memory on the local Notbook server, we are limiting the result set to only weather data for New York. Check out the Spark integration for a fully scalable solution."
   ]
  },
  {
   "cell_type": "code",
   "execution_count": 5,
   "metadata": {
    "collapsed": true
   },
   "outputs": [],
   "source": [
    "cs=ctx.cursor()\n",
    "allrows=cs.execute( \\\n",
    "\"select (V:main.temp_max - 273.15) * 1.8000 + 32.00 as temp_max_far, \" +\\\n",
    "\"       (V:main.temp_min - 273.15) * 1.8000 + 32.00 as temp_min_far, \" +\\\n",
    "\"       cast(V:time as timestamp) time, \" +\\\n",
    "\"       V:city.coord.lat lat, \" +\\\n",
    "\"       V:city.coord.lon lon \" +\\\n",
    "\"from snowflake_sample_data.weather.weather_14_total \" +\\\n",
    "\"where v:city.name = 'New York' \" +\\\n",
    "\"and   v:city.country = 'US' \").fetchall()"
   ]
  },
  {
   "cell_type": "code",
   "execution_count": 6,
   "metadata": {},
   "outputs": [
    {
     "data": {
      "text/html": [
       "<div>\n",
       "<style>\n",
       "    .dataframe thead tr:only-child th {\n",
       "        text-align: right;\n",
       "    }\n",
       "\n",
       "    .dataframe thead th {\n",
       "        text-align: left;\n",
       "    }\n",
       "\n",
       "    .dataframe tbody tr th {\n",
       "        vertical-align: top;\n",
       "    }\n",
       "</style>\n",
       "<table border=\"1\" class=\"dataframe\">\n",
       "  <thead>\n",
       "    <tr style=\"text-align: right;\">\n",
       "      <th></th>\n",
       "      <th>temp_max_far</th>\n",
       "      <th>temp_min_far</th>\n",
       "      <th>time</th>\n",
       "      <th>lat</th>\n",
       "      <th>lon</th>\n",
       "    </tr>\n",
       "  </thead>\n",
       "  <tbody>\n",
       "    <tr>\n",
       "      <th>0</th>\n",
       "      <td>73.400</td>\n",
       "      <td>69.800</td>\n",
       "      <td>2016-08-29 13:26:34</td>\n",
       "      <td>43.000351</td>\n",
       "      <td>-75.499901</td>\n",
       "    </tr>\n",
       "    <tr>\n",
       "      <th>1</th>\n",
       "      <td>80.996</td>\n",
       "      <td>73.400</td>\n",
       "      <td>2016-08-29 13:27:13</td>\n",
       "      <td>40.714272</td>\n",
       "      <td>-74.005966</td>\n",
       "    </tr>\n",
       "    <tr>\n",
       "      <th>2</th>\n",
       "      <td>66.992</td>\n",
       "      <td>55.400</td>\n",
       "      <td>2016-09-03 01:28:37</td>\n",
       "      <td>43.000351</td>\n",
       "      <td>-75.499901</td>\n",
       "    </tr>\n",
       "    <tr>\n",
       "      <th>3</th>\n",
       "      <td>77.000</td>\n",
       "      <td>60.998</td>\n",
       "      <td>2016-09-03 01:29:14</td>\n",
       "      <td>40.714272</td>\n",
       "      <td>-74.005966</td>\n",
       "    </tr>\n",
       "    <tr>\n",
       "      <th>4</th>\n",
       "      <td>68.000</td>\n",
       "      <td>64.004</td>\n",
       "      <td>2016-08-22 02:30:49</td>\n",
       "      <td>43.000351</td>\n",
       "      <td>-75.499901</td>\n",
       "    </tr>\n",
       "    <tr>\n",
       "      <th>...</th>\n",
       "      <td>...</td>\n",
       "      <td>...</td>\n",
       "      <td>...</td>\n",
       "      <td>...</td>\n",
       "      <td>...</td>\n",
       "    </tr>\n",
       "    <tr>\n",
       "      <th>19937</th>\n",
       "      <td>33.800</td>\n",
       "      <td>26.600</td>\n",
       "      <td>2018-01-10 15:02:27</td>\n",
       "      <td>40.714272</td>\n",
       "      <td>-74.005966</td>\n",
       "    </tr>\n",
       "    <tr>\n",
       "      <th>19938</th>\n",
       "      <td>41.000</td>\n",
       "      <td>33.800</td>\n",
       "      <td>2018-01-11 04:02:15</td>\n",
       "      <td>43.000351</td>\n",
       "      <td>-75.499901</td>\n",
       "    </tr>\n",
       "    <tr>\n",
       "      <th>19939</th>\n",
       "      <td>41.000</td>\n",
       "      <td>32.000</td>\n",
       "      <td>2018-01-11 04:02:19</td>\n",
       "      <td>40.714272</td>\n",
       "      <td>-74.005966</td>\n",
       "    </tr>\n",
       "    <tr>\n",
       "      <th>19940</th>\n",
       "      <td>41.000</td>\n",
       "      <td>35.600</td>\n",
       "      <td>2018-01-11 05:04:31</td>\n",
       "      <td>43.000351</td>\n",
       "      <td>-75.499901</td>\n",
       "    </tr>\n",
       "    <tr>\n",
       "      <th>19941</th>\n",
       "      <td>42.800</td>\n",
       "      <td>30.200</td>\n",
       "      <td>2018-01-11 05:04:34</td>\n",
       "      <td>40.714272</td>\n",
       "      <td>-74.005966</td>\n",
       "    </tr>\n",
       "  </tbody>\n",
       "</table>\n",
       "<p>19942 rows × 5 columns</p>\n",
       "</div>"
      ],
      "text/plain": [
       "       temp_max_far  temp_min_far                time        lat         lon\n",
       "0            73.400        69.800 2016-08-29 13:26:34  43.000351  -75.499901\n",
       "1            80.996        73.400 2016-08-29 13:27:13  40.714272  -74.005966\n",
       "2            66.992        55.400 2016-09-03 01:28:37  43.000351  -75.499901\n",
       "3            77.000        60.998 2016-09-03 01:29:14  40.714272  -74.005966\n",
       "4            68.000        64.004 2016-08-22 02:30:49  43.000351  -75.499901\n",
       "...             ...           ...                 ...        ...         ...\n",
       "19937        33.800        26.600 2018-01-10 15:02:27  40.714272  -74.005966\n",
       "19938        41.000        33.800 2018-01-11 04:02:15  43.000351  -75.499901\n",
       "19939        41.000        32.000 2018-01-11 04:02:19  40.714272  -74.005966\n",
       "19940        41.000        35.600 2018-01-11 05:04:31  43.000351  -75.499901\n",
       "19941        42.800        30.200 2018-01-11 05:04:34  40.714272  -74.005966\n",
       "\n",
       "[19942 rows x 5 columns]"
      ]
     },
     "execution_count": 6,
     "metadata": {},
     "output_type": "execute_result"
    }
   ],
   "source": [
    "import pandas as pd                               # For munging tabular data\n",
    "\n",
    "data = pd.DataFrame(allrows)\n",
    "data.columns=['temp_max_far','temp_min_far','time','lat','lon']\n",
    "pd.set_option('display.max_columns', 500)     # Make sure we can see all of the columns\n",
    "pd.set_option('display.max_rows', 10)         # Keep the output on one page\n",
    "data"
   ]
  },
  {
   "cell_type": "code",
   "execution_count": null,
   "metadata": {
    "collapsed": true
   },
   "outputs": [],
   "source": []
  }
 ],
 "metadata": {
  "kernelspec": {
   "display_name": "conda_python3",
   "language": "python",
   "name": "conda_python3"
  },
  "language_info": {
   "codemirror_mode": {
    "name": "ipython",
    "version": 3
   },
   "file_extension": ".py",
   "mimetype": "text/x-python",
   "name": "python",
   "nbconvert_exporter": "python",
   "pygments_lexer": "ipython3",
   "version": "3.6.13"
  },
  "notice": "Copyright 2017 Amazon.com, Inc. or its affiliates. All Rights Reserved.  Licensed under the Apache License, Version 2.0 (the \"License\"). You may not use this file except in compliance with the License. A copy of the License is located at http://aws.amazon.com/apache2.0/ or in the \"license\" file accompanying this file. This file is distributed on an \"AS IS\" BASIS, WITHOUT WARRANTIES OR CONDITIONS OF ANY KIND, either express or implied. See the License for the specific language governing permissions and limitations under the License."
 },
 "nbformat": 4,
 "nbformat_minor": 2
}

